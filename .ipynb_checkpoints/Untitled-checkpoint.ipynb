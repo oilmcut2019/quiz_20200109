{
 "cells": [
  {
   "cell_type": "markdown",
   "metadata": {},
   "source": [
    "1.What is a correct syntax to output \"Hello World\" in Python?\n",
    "A)print(\"Hello World\")\n",
    "B)echo(\"Hello World\")\n",
    "C)p(\"Hello World\")\n",
    "D)echo \"Hello World\""
   ]
  },
  {
   "cell_type": "markdown",
   "metadata": {},
   "source": [
    "2.How do you insert COMMENTS in Python code?\n",
    "A)#This is a comment\n",
    "B)//This is a comment\n",
    "C)/*This is a comment*/"
   ]
  },
  {
   "cell_type": "markdown",
   "metadata": {},
   "source": [
    "3.Which one is NOT a legal variable name?\n",
    "A)my-var\n",
    "B)_myvar\n",
    "C)my_var\n",
    "D)Myvar"
   ]
  },
  {
   "cell_type": "markdown",
   "metadata": {},
   "source": [
    "4.How do you create a variable with the numeric value 5?\n",
    "A)x = 5\n",
    "B)x = int(5)\n",
    "C)Both the other answers are correct"
   ]
  },
  {
   "cell_type": "markdown",
   "metadata": {},
   "source": [
    "5.What is the correct file extension for Python files?\n",
    "A).pyt\n",
    "B).pyth\n",
    "C).pt\n",
    "D).py"
   ]
  },
  {
   "cell_type": "markdown",
   "metadata": {},
   "source": [
    "6.How do you create a variable with the floating number 2.8?\n",
    "A)x = float(2.8)\n",
    "B)x = 2.8\n",
    "C)Both the other answers are correct"
   ]
  },
  {
   "cell_type": "markdown",
   "metadata": {},
   "source": [
    "7.What is the correct syntax to output the type of a variable or object in Python?\n",
    "A)print(type(x))\n",
    "B)print(typeof(x))\n",
    "C)print(typeOf(x))\n",
    "D)print(typeof x)"
   ]
  },
  {
   "cell_type": "markdown",
   "metadata": {},
   "source": [
    "8.What is the correct way to create a function in Python?\n",
    "A)create myFunction():\n",
    "B)function myFunction():\n",
    "C)def myFunction():"
   ]
  },
  {
   "cell_type": "markdown",
   "metadata": {},
   "source": [
    "9.In Python, 'Hello', is the same as \"Hello\"\n",
    "A)True\n",
    "B)Flase"
   ]
  },
  {
   "cell_type": "markdown",
   "metadata": {},
   "source": [
    "10.What is a correct syntax to return the first character in a string?\n",
    "A)x = sub(\"Hello\", 0, 1)\n",
    "B)x = \"Hello\"[0]\n",
    "C)x = \"Hello\".sub(0, 1)"
   ]
  },
  {
   "cell_type": "markdown",
   "metadata": {},
   "source": [
    "11.Which method can be used to remove any whitespace from both the beginning and the end of a string?\n",
    "A)len()\n",
    "B)ptrim()\n",
    "C)strip()\n",
    "D)trim()"
   ]
  },
  {
   "cell_type": "markdown",
   "metadata": {},
   "source": [
    "12.Which method can be used to return a string in upper case letters?\n",
    "A)upper()\n",
    "B)upperCase()\n",
    "C)toUpperCase()\n",
    "D)uppercase()"
   ]
  },
  {
   "cell_type": "markdown",
   "metadata": {},
   "source": [
    "13.Which method can be used to replace parts of a string?\n",
    "A)replaceString()\n",
    "B)repl()\n",
    "C)replace()\n",
    "D)switch()"
   ]
  },
  {
   "cell_type": "markdown",
   "metadata": {},
   "source": [
    "14.Which operator is used to multiply numbers?\n",
    "A)*\n",
    "B)%\n",
    "C)#\n",
    "D)x"
   ]
  },
  {
   "cell_type": "markdown",
   "metadata": {},
   "source": [
    "15.Which operator can be used to compare two values?\n",
    "A)<>\n",
    "B)><\n",
    "C)==\n",
    "D)="
   ]
  },
  {
   "cell_type": "markdown",
   "metadata": {},
   "source": [
    "16.Which of these collections defines a LIST?\n",
    "A)[\"apple\",\"banana\",\"cherry\"]\n",
    "B)(\"apple\",\"banana\",\"cherry\")\n",
    "C){\"apple\",\"banana\",\"cherry\"}\n",
    "D){\"name\":\"apple\",\"color\":\"green\"}"
   ]
  },
  {
   "cell_type": "markdown",
   "metadata": {},
   "source": [
    "17.Which of these collections defines a TUPLE?\n",
    "A)[\"apple\",\"banana\",\"cherry\"]\n",
    "B)(\"apple\",\"banana\",\"cherry\")\n",
    "C){\"apple\",\"banana\",\"cherry\"}\n",
    "D){\"name\":\"apple\",\"color\":\"green\"}"
   ]
  },
  {
   "cell_type": "markdown",
   "metadata": {},
   "source": [
    "18.Which of these collections defines a SET?\n",
    "A)[\"apple\",\"banana\",\"cherry\"]\n",
    "B)(\"apple\",\"banana\",\"cherry\")\n",
    "C){\"apple\",\"banana\",\"cherry\"}\n",
    "D){\"name\":\"apple\",\"color\":\"green\"}"
   ]
  },
  {
   "cell_type": "markdown",
   "metadata": {},
   "source": [
    "19.Which of these collections defines a DICTIONARY?\n",
    "A)[\"apple\",\"banana\",\"cherry\"]\n",
    "B)(\"apple\",\"banana\",\"cherry\")\n",
    "C){\"apple\",\"banana\",\"cherry\"}\n",
    "D){\"name\":\"apple\",\"color\":\"green\"}"
   ]
  },
  {
   "cell_type": "markdown",
   "metadata": {},
   "source": [
    "20.Which collection is ordered, changeable, and allows duplicate members?\n",
    "A)SET\n",
    "B)TUPLE\n",
    "C)DICTIONARY\n",
    "D)LIST"
   ]
  },
  {
   "cell_type": "markdown",
   "metadata": {},
   "source": [
    "21.Which collection does not allow duplicate members?\n",
    "A)SET\n",
    "B)TUPLE\n",
    "D)LIST"
   ]
  },
  {
   "cell_type": "markdown",
   "metadata": {},
   "source": [
    "22.How do you start writing an if statement in Python?\n",
    "A)if x > y\n",
    "B)if (x > y)\n",
    "C)if x > y then:"
   ]
  },
  {
   "cell_type": "markdown",
   "metadata": {},
   "source": [
    "23.How do you start writing a while loop in Python?\n",
    "A)x > Y while{\n",
    "B)while (x > Y)\n",
    "C)while x > Y:\n",
    "D)while x > Y{"
   ]
  },
  {
   "cell_type": "markdown",
   "metadata": {},
   "source": [
    "24.How do you start writing a for loop in Python?\n",
    "A)for x in y:\n",
    "B)for each x in y:\n",
    "C)for x > y:"
   ]
  },
  {
   "cell_type": "markdown",
   "metadata": {},
   "source": [
    "25.Which statement is used to stop a loop?\n",
    "A)stop\n",
    "B)break\n",
    "C)exit\n",
    "D)return"
   ]
  }
 ],
 "metadata": {
  "kernelspec": {
   "display_name": "Python 3",
   "language": "python",
   "name": "python3"
  },
  "language_info": {
   "codemirror_mode": {
    "name": "ipython",
    "version": 3
   },
   "file_extension": ".py",
   "mimetype": "text/x-python",
   "name": "python",
   "nbconvert_exporter": "python",
   "pygments_lexer": "ipython3",
   "version": "3.7.3"
  },
  "nbTranslate": {
   "displayLangs": [
    "*"
   ],
   "hotkey": "alt-t",
   "langInMainMenu": true,
   "sourceLang": "en",
   "targetLang": "fr",
   "useGoogleTranslate": true
  },
  "toc": {
   "base_numbering": 1,
   "nav_menu": {},
   "number_sections": true,
   "sideBar": true,
   "skip_h1_title": false,
   "title_cell": "Table of Contents",
   "title_sidebar": "Contents",
   "toc_cell": false,
   "toc_position": {},
   "toc_section_display": true,
   "toc_window_display": false
  },
  "varInspector": {
   "cols": {
    "lenName": 16,
    "lenType": 16,
    "lenVar": 40
   },
   "kernels_config": {
    "python": {
     "delete_cmd_postfix": "",
     "delete_cmd_prefix": "del ",
     "library": "var_list.py",
     "varRefreshCmd": "print(var_dic_list())"
    },
    "r": {
     "delete_cmd_postfix": ") ",
     "delete_cmd_prefix": "rm(",
     "library": "var_list.r",
     "varRefreshCmd": "cat(var_dic_list()) "
    }
   },
   "types_to_exclude": [
    "module",
    "function",
    "builtin_function_or_method",
    "instance",
    "_Feature"
   ],
   "window_display": false
  }
 },
 "nbformat": 4,
 "nbformat_minor": 2
}
